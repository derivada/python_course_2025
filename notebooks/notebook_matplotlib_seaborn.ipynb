{
 "cells": [
  {
   "cell_type": "markdown",
   "metadata": {},
   "source": [
    "# Matplotlib y Seaborn - Ejercicios"
   ]
  },
  {
   "cell_type": "code",
   "execution_count": 4,
   "metadata": {},
   "outputs": [],
   "source": [
    "import numpy as np\n",
    "import pandas as pd\n",
    "import matplotlib.pyplot as plt\n",
    "import seaborn as sns"
   ]
  },
  {
   "cell_type": "markdown",
   "metadata": {},
   "source": [
    "**Aviso**: Aunque la mayoría de la información que necesitáis para estos ejercicios está disponible en las slides, para algunos es necesario buscar información en la documentación de las librerías que hemos utilizado hasta ahora.\n",
    "\n",
    "Los ejercicios $1$ y $2$ están pensados para usar únicamente matplotlib. En el ejercicio $3$, la librería preferente será seaborn."
   ]
  },
  {
   "cell_type": "markdown",
   "metadata": {},
   "source": [
    "# Ejercicio 1\n",
    "\n",
    "El conjunto de datos será el siguiente ([fuente](https://home.treasury.gov/policy-issues/financing-the-government/interest-rate-statistics?data=yield)), que indica el interés pagado por bonos del tesoro estadounidenses a lo largo de diferentes períodos de tiempo. "
   ]
  },
  {
   "cell_type": "code",
   "execution_count": 5,
   "metadata": {},
   "outputs": [],
   "source": [
    "labels = ['1 Mo','3 Mo','6 Mo','1 Yr','2 Yr','3 Yr','5 Yr','7 Yr','10 Yr','20 Yr','30 Yr']\n",
    "\n",
    "july16_2007 =[4.75,4.98,5.08,5.01,4.89,4.89,4.95,4.99,5.05,5.21,5.14]\n",
    "july16_2020 = [0.12,0.11,0.13,0.14,0.16,0.17,0.28,0.46,0.62,1.09,1.31]"
   ]
  },
  {
   "cell_type": "markdown",
   "metadata": {},
   "source": [
    "a. Haz un gráfico de líneas en el que ambos conjunto de datos aparezcan en la misma figura. Pon un nombre a los ejes $x$ e $y$, una leyenda, un título y una cuadrícula de fondo. Las etiquetas del eje x deben ser las del array ```labels```."
   ]
  },
  {
   "cell_type": "code",
   "execution_count": null,
   "metadata": {},
   "outputs": [],
   "source": []
  },
  {
   "cell_type": "markdown",
   "metadata": {},
   "source": [
    "b. Haz lo mismo del apartado a., pero mueve la leyenda fuera de la gráfica (tip: busca información sobre el argumento bbox_to_anchor de la función legend). Además, añade una sombra al cuadro de la leyenda."
   ]
  },
  {
   "cell_type": "code",
   "execution_count": null,
   "metadata": {},
   "outputs": [],
   "source": []
  },
  {
   "cell_type": "markdown",
   "metadata": {},
   "source": [
    "c. En lugar de representar los dos conjuntos de datos en una sola figura, crea dos gráficos, uno debajo del otro, y representa cada conjunto de datos por separado, con colores distintos. Indica el nombre y las etiquetas del eje $y$ en ambos, pero pon el nombre y las etiquetas del eje $x$ solo en el gráfico inferior. Además, cada figura debe tener su propia leyenda. Pon un título que englobe a ambas figuras."
   ]
  },
  {
   "cell_type": "code",
   "execution_count": null,
   "metadata": {},
   "outputs": [],
   "source": []
  },
  {
   "cell_type": "markdown",
   "metadata": {},
   "source": [
    "## Ejercicio 2\n",
    "a. Carga el conjunto de datos disponible en ```company_sales_data.csv``` como un DataFrame. Imprime las primeras 8 filas del DataFrame."
   ]
  },
  {
   "cell_type": "code",
   "execution_count": null,
   "metadata": {},
   "outputs": [],
   "source": []
  },
  {
   "cell_type": "markdown",
   "metadata": {},
   "source": [
    "b. Comprueba las principales características del DataFrame (dimensiones, tipos de datos, medias y desviaciones típicas de las columnas numéricas, número de valores nulos)."
   ]
  },
  {
   "cell_type": "code",
   "execution_count": null,
   "metadata": {},
   "outputs": [],
   "source": []
  },
  {
   "cell_type": "markdown",
   "metadata": {},
   "source": [
    "c. Representa los datos de beneficios (```total_profit```) de cada mes (```month_number```) en un gráfico de líneas. Los etiquetas del eje $y$ deben ser $100000$, $200000$, $300000$, $400000$ y $500000$. Las etiquetas del eje $x$ deben ser los números del $1$ al $12$."
   ]
  },
  {
   "cell_type": "code",
   "execution_count": null,
   "metadata": {},
   "outputs": [],
   "source": []
  },
  {
   "cell_type": "markdown",
   "metadata": {},
   "source": [
    "d. Modifica el gráfico del apartado c. para que la línea sea discontinua, de anchura 3 y de color negro. Añade marcadores circulares azules en las posiciones donde hay datos."
   ]
  },
  {
   "cell_type": "code",
   "execution_count": null,
   "metadata": {},
   "outputs": [],
   "source": []
  },
  {
   "cell_type": "markdown",
   "metadata": {},
   "source": [
    "e. Crea un scatter plot con los datos de la variable `toothpaste` en el eje $y$ y los correspondientes meses en el eje $x$. Añade una cuadrícula con líneas discontinuas y opacidad $0.5$."
   ]
  },
  {
   "cell_type": "code",
   "execution_count": null,
   "metadata": {},
   "outputs": [],
   "source": []
  },
  {
   "cell_type": "markdown",
   "metadata": {},
   "source": [
    "f. Crea un gráfico de barras con los datos de la variable `bathingsoap` en el eje $y$ y los correspondientes meses en el eje $x$. Cada barra debe ser de un color diferente."
   ]
  },
  {
   "cell_type": "code",
   "execution_count": null,
   "metadata": {},
   "outputs": [],
   "source": []
  },
  {
   "cell_type": "markdown",
   "metadata": {},
   "source": [
    "g. Crea un [stackplot](https://matplotlib.org/stable/plot_types/basic/stackplot.html#sphx-glr-plot-types-basic-stackplot-py) con los datos de las variables 'shampoo', 'facecream' y 'moisturizer' para cada mes. Es decir, las variables deben estar apiladas unas sobre otras, con los meses en el eje $x$. Añade una leyenda."
   ]
  },
  {
   "cell_type": "code",
   "execution_count": null,
   "metadata": {},
   "outputs": [],
   "source": []
  },
  {
   "cell_type": "markdown",
   "metadata": {},
   "source": [
    "# Ejercicio 3"
   ]
  },
  {
   "cell_type": "markdown",
   "metadata": {},
   "source": [
    "Para este ejercicio, emplearemos el conjunto de datos referentes al Titanic, disponibles en seaborn."
   ]
  },
  {
   "cell_type": "code",
   "execution_count": 6,
   "metadata": {},
   "outputs": [],
   "source": [
    "titanic = sns.load_dataset('titanic')"
   ]
  },
  {
   "cell_type": "markdown",
   "metadata": {},
   "source": [
    "a. Imprime las primeras $8$ filas del DataFrame. Comprueba las principales características del mismo (dimensiones, tipos de datos, medias y desviaciones típicas de las columnas numéricas, número de valores nulos)."
   ]
  },
  {
   "cell_type": "code",
   "execution_count": null,
   "metadata": {},
   "outputs": [],
   "source": []
  },
  {
   "cell_type": "markdown",
   "metadata": {},
   "source": [
    "b. Fija un estilo de gráfico utilizando la función set_style() de seaborn. Puedes elegir entre \"darkgrid\", \"whitegrid\", \"dark\", \"white\" y \"ticks\"."
   ]
  },
  {
   "cell_type": "code",
   "execution_count": null,
   "metadata": {},
   "outputs": [],
   "source": []
  },
  {
   "cell_type": "markdown",
   "metadata": {},
   "source": [
    "c. Crea un boxplot de la edad de los pasajeros, diferenciando entre hombres y mujeres. Pon un título a la gráfica. Especifica una paleta de colores."
   ]
  },
  {
   "cell_type": "code",
   "execution_count": null,
   "metadata": {},
   "outputs": [],
   "source": []
  },
  {
   "cell_type": "markdown",
   "metadata": {},
   "source": [
    "d. Crea un violinplot donde el eje $x$ corresponda a la clase de los pasajeros (```pclass```), el eje $y$ a su edad y el color a su género. Cambia los nombres de los ejes (ponlos en español/gallego)."
   ]
  },
  {
   "cell_type": "code",
   "execution_count": null,
   "metadata": {},
   "outputs": [],
   "source": []
  },
  {
   "cell_type": "markdown",
   "metadata": {},
   "source": [
    "e. Crea un heatmap de la correlación entre las variables numéricas del dataset."
   ]
  },
  {
   "cell_type": "code",
   "execution_count": null,
   "metadata": {},
   "outputs": [],
   "source": []
  },
  {
   "cell_type": "markdown",
   "metadata": {},
   "source": [
    "f. Crea un scatterplot entre las variables ```fare``` y ```age``` del dataset titanic. El color de los puntos debe corresponder a la variable ```class``` y el tamaño de los puntos a la variable ```parch``` (que representa el número de padres/hijos que viajaban en el Titanic). Mueve la leyenda fuera de la gráfica (usa la función ```move_legend()``` de seaborn)."
   ]
  },
  {
   "cell_type": "code",
   "execution_count": null,
   "metadata": {},
   "outputs": [],
   "source": []
  },
  {
   "cell_type": "markdown",
   "metadata": {},
   "source": [
    "g. Muestra un histograma de la variable \"fare\" (tarifa) con 30 bins y un color azul claro. Utiliza el argumento ```kde``` para agregar una curva de densidad."
   ]
  },
  {
   "cell_type": "code",
   "execution_count": null,
   "metadata": {},
   "outputs": [],
   "source": []
  }
 ],
 "metadata": {
  "kernelspec": {
   "display_name": "ml",
   "language": "python",
   "name": "python3"
  },
  "language_info": {
   "codemirror_mode": {
    "name": "ipython",
    "version": 3
   },
   "file_extension": ".py",
   "mimetype": "text/x-python",
   "name": "python",
   "nbconvert_exporter": "python",
   "pygments_lexer": "ipython3",
   "version": "3.11.5"
  }
 },
 "nbformat": 4,
 "nbformat_minor": 2
}
