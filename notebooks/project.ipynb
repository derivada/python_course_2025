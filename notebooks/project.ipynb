{
 "cells": [
  {
   "cell_type": "markdown",
   "metadata": {},
   "source": [
    "# Proyecto Curso Python\n",
    "\n"
   ]
  },
  {
   "cell_type": "markdown",
   "metadata": {},
   "source": [
    "En este [enlace](https://derivadas.dev/data/mxmh_survey_results_filtered.csv) podéis descargar un dataset que contiene parte de los resultados de una encuesta destinada a evaluar la relación entre la salud mental y los gustos musicales. \n",
    "\n",
    "Cada fila corresponde a la información extraída de los resultados enviados por una persona. Disponéis de las siguientes variables:\n",
    "- ```Timestamp```: Día y hora en la que se cubrió la encuesta.\n",
    "- ```Age```: Edad del encuestado.\n",
    "- ```Primary streaming service```: Servicio principalmente utilizado para la reproducción de música.\n",
    "- ```Hours per day```: Número de horas que el encuestado pasa escuchando música cada día.\n",
    "- ```Fav genre```: Género musical favorito.\n",
    "- ```BPM```: Beats per minute del género musical favorito (reportado por el encuestado).\n",
    "- ```Anxiety```: Nivel de ansiedad reportado por el encuestado, en una escala 0-10. \n",
    "- ```Depression```: Nivel de depresión reportado por el encuestado, en una escala 0-10.\n",
    "- ```Insomnia```: Nivel de insomnio reportado por el encuestado, en una escala 0-10.\n",
    "- ```OCD```: Nivel de trastorno obsesivo-compulsivo reportado por el encuestado, en una escala 0-10.\n",
    "- ```Music effects```: Respuesta a si la música mejora o empeora la salud mental del encuestado.\n",
    "\n",
    "\n",
    "\n",
    "## Preguntas obligatorias\n",
    "1. Carga el dataset a un ```DataFrame``` de pandas. Muestra las 5 primeras filas y responde a las siguientes preguntas empleando comandos de Python:\n",
    "    - ¿Cuántas filas y columnas hay? \n",
    "    - ¿Cuál es el tipo de datos de cada columna? ¿Hace falta convertir alguna columna a otro tipo?\n",
    "    - ¿Hay NANs?\n",
    "    - ¿Cuál es la media y la desviación típica de las columnas numéricas?\n",
    "2. Limpia los datos: elimina/imputa NaNs si los hay y elimina las filas duplicadas si las hay. Identifica si hay outliers en la variable BPM, donde consideraremos outliers aquellos BPMs que sean mayores de 250 o menores de 40. Mapea los outliers mayores de 250 a 250 y los menores de 40, a 40. \n",
    "3. Visualiza la distribución de algunas de las columnas numéricas mediante un histograma (u otros diagramas como los _violinplots_ de seaborn, _boxplots_, $\\dots$ Podéis ser creativos!)\n",
    "\n",
    "## Preguntas optativas (ordenadas por dificultad)\n",
    "1. ¿Qué valores toma la variable ```Music effects```? ¿Cuál es la frecuencia de cada uno?\n",
    "2. Crea un gráfico de tarta (pie chart) que muestre la distribución de la variable ```Fav genre```.\n",
    "3. Crea un diagrama de barras que muestre la puntuación en ```Insomnia``` para cada género de la variable ```Fav genre```. ¿Qué se puede concluir?\n",
    "4. Crea un diagrama de barras que muestre la media de ```Hours per day``` para individuos que hayan reportado más de un 8 en las categorías ```Anxiety```, ```Depression```, ```Insomnia``` y ```OCD```. \n",
    "5. Crea un boxplot que muestre la relación entre el ```Primary Streaming Service``` y la edad de los encuestados. \n",
    "6. Crea un violinplot con la distribución de ```BPM``` por ```Fav genre```.\n",
    "7. Encuentra qué generos de música ayudan a más individuos con un valor alto ($\\geq 6$) en alguna de las 4 condiciones mentales del dataset.\n",
    "8. Entrena un modelo lineal para predecir el número de horas diarias a partir de la edad y los valores de ```Anxiety```, ```Depresssion```, ```Insomnia``` y ```OCD```."
   ]
  },
  {
   "cell_type": "code",
   "execution_count": 55,
   "metadata": {},
   "outputs": [],
   "source": [
    "# Empieza aquí\n"
   ]
  }
 ],
 "metadata": {
  "kernelspec": {
   "display_name": "curso_python_2025",
   "language": "python",
   "name": "python3"
  },
  "language_info": {
   "codemirror_mode": {
    "name": "ipython",
    "version": 3
   },
   "file_extension": ".py",
   "mimetype": "text/x-python",
   "name": "python",
   "nbconvert_exporter": "python",
   "pygments_lexer": "ipython3",
   "version": "3.13.2"
  }
 },
 "nbformat": 4,
 "nbformat_minor": 2
}
