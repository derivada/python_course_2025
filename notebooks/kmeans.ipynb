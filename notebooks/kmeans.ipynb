{
 "cells": [
  {
   "cell_type": "code",
   "execution_count": null,
   "metadata": {},
   "outputs": [],
   "source": [
    "import numpy as np\n",
    "import matplotlib.pyplot as plt\n",
    "from sklearn.cluster import KMeans\n",
    "from sklearn.preprocessing import StandardScaler\n",
    "from sklearn.datasets import make_blobs\n",
    "    \n",
    "# Generamos 1000 puntos aleatorios en 3 clusters, vamos a ver si podemos recuperarlos\n",
    "X, y = make_blobs(n_samples=1000, centers=3, random_state=42, cluster_std=1.0)\n",
    "    \n",
    "# En primer lugar, escalamos los datos\n",
    "scaler = StandardScaler()\n",
    "X_scaled = scaler.fit_transform(X)\n",
    "    \n",
    "# Y ahora hacemos K-means especificando el número de clusters a 3\n",
    "# K-Means usa un estado aleatorio, que debemos prefijar (es como prefijar una semilla)\n",
    "# NOTA: existen métodos (Elbow method, Silhouette score...) para hallar el número de clusters\n",
    "# óptimo automáticamente\n",
    "kmeans = KMeans(n_clusters=3, random_state=42)\n",
    "kmeans.fit(X_scaled)\n",
    "    \n",
    "# Extraemos los centros de los clusters y los labels, que nos dicen en qué cluster cae cada punto\n",
    "centros = kmeans.cluster_centers_\n",
    "labels = kmeans.labels_\n",
    "print(\"Centros de los clusters:\")\n",
    "for centro in centros:\n",
    "    print(\"x = \", centro[0], \" y = \", centro[1])\n"
   ]
  },
  {
   "cell_type": "code",
   "execution_count": null,
   "metadata": {},
   "outputs": [],
   "source": [
    "# Plotteamos los puntos con colores de los labels y marcamos los centros de cada cluster\n",
    "plt.scatter(X_scaled[:, 0], X_scaled[:, 1], c=labels, s=50, cmap='viridis')\n",
    "plt.scatter(centros[:, 0], centros[:, 1], c='red', s=100, marker='X')\n",
    "plt.show()"
   ]
  },
  {
   "cell_type": "code",
   "execution_count": null,
   "metadata": {},
   "outputs": [],
   "source": [
    "# Quitando el escalado con scaler.inverse_tranform, podemos plottear los centros en el espacio original\n",
    "X_original = scaler.inverse_transform(X_scaled)\n",
    "centros_original = scaler.inverse_transform(centros)\n",
    "\n",
    "# Plotteamos los puntos con los labels y los centros de cada cluster en el dominio original\n",
    "plt.scatter(X_original[:, 0], X_original[:, 1], c=labels, s=50, cmap='viridis', alpha=0.6)\n",
    "plt.scatter(centros_original[:, 0], centros_original[:, 1], c='red', s=100, marker='X')\n",
    "plt.show()"
   ]
  }
 ],
 "metadata": {
  "kernelspec": {
   "display_name": "curso_python_2025",
   "language": "python",
   "name": "python3"
  },
  "language_info": {
   "codemirror_mode": {
    "name": "ipython",
    "version": 3
   },
   "file_extension": ".py",
   "mimetype": "text/x-python",
   "name": "python",
   "nbconvert_exporter": "python",
   "pygments_lexer": "ipython3",
   "version": "3.13.2"
  }
 },
 "nbformat": 4,
 "nbformat_minor": 2
}
