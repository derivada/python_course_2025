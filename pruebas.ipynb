{
 "cells": [
  {
   "cell_type": "code",
   "execution_count": 2,
   "metadata": {},
   "outputs": [],
   "source": [
    "import time\n",
    "import numpy as np "
   ]
  },
  {
   "cell_type": "code",
   "execution_count": 3,
   "metadata": {},
   "outputs": [],
   "source": [
    "my_arr = np.arange(100000)\n",
    "my_list = list(range(100000))"
   ]
  },
  {
   "cell_type": "code",
   "execution_count": 4,
   "metadata": {},
   "outputs": [
    {
     "name": "stdout",
     "output_type": "stream",
     "text": [
      "--- 0.0007851123809814453 seconds ---\n"
     ]
    }
   ],
   "source": [
    "start_time = time.time()\n",
    "for _ in range(10):\n",
    "    my_arr2 = my_arr * 2\n",
    "\n",
    "print(\"--- %s seconds ---\" % (time.time() - start_time))"
   ]
  },
  {
   "cell_type": "code",
   "execution_count": 5,
   "metadata": {},
   "outputs": [
    {
     "name": "stdout",
     "output_type": "stream",
     "text": [
      "--- 0.035791635513305664 seconds ---\n"
     ]
    }
   ],
   "source": [
    "start_time = time.time()\n",
    "for _ in range(10):\n",
    "    my_list2 = [x * 2 for x in my_list]\n",
    "\n",
    "print(\"--- %s seconds ---\" % (time.time() - start_time))"
   ]
  },
  {
   "cell_type": "code",
   "execution_count": 6,
   "metadata": {},
   "outputs": [
    {
     "name": "stdout",
     "output_type": "stream",
     "text": [
      "--- 0.2043163776397705 seconds ---\n"
     ]
    }
   ],
   "source": [
    "start_time = time.time()\n",
    "for _ in range(10):\n",
    "    for i in range(100000):\n",
    "        my_arr[i] = my_arr[i] << 1\n",
    "\n",
    "print(\"--- %s seconds ---\" % (time.time() - start_time))"
   ]
  },
  {
   "cell_type": "code",
   "execution_count": 7,
   "metadata": {},
   "outputs": [],
   "source": [
    "a = np.array([[2., 3., 5.],\n",
    "                [7., 8., 9.]])"
   ]
  },
  {
   "cell_type": "code",
   "execution_count": 8,
   "metadata": {},
   "outputs": [
    {
     "data": {
      "text/plain": [
       "(2, 3)"
      ]
     },
     "execution_count": 8,
     "metadata": {},
     "output_type": "execute_result"
    }
   ],
   "source": [
    "np.shape(a)"
   ]
  },
  {
   "cell_type": "code",
   "execution_count": 9,
   "metadata": {},
   "outputs": [
    {
     "name": "stdout",
     "output_type": "stream",
     "text": [
      "1\n",
      "2\n",
      "(5,)\n",
      "(2, 4)\n",
      "5\n",
      "8\n",
      "float64\n",
      "int32\n"
     ]
    }
   ],
   "source": [
    "                data1 = [1., 0.3, 2, 4, -2]\n",
    "                arr1 = np.array(data1)\n",
    "\n",
    "                data2 = [[1, 2, 3, 4], [5, 6, 7, 8]]\n",
    "                arr2 = np.array(data2)\n",
    "                print(arr1.ndim)\n",
    "                print(arr2.ndim)\n",
    "\n",
    "                print(arr1.shape)\n",
    "                print(arr2.shape)\n",
    "\n",
    "                print(arr1.size)\n",
    "                print(arr2.size)\n",
    "\n",
    "                print(arr1.dtype)    # float64 \n",
    "                print(arr2.dtype)    # int32"
   ]
  },
  {
   "cell_type": "code",
   "execution_count": 10,
   "metadata": {},
   "outputs": [
    {
     "data": {
      "text/plain": [
       "(2, 3, 4)"
      ]
     },
     "execution_count": 10,
     "metadata": {},
     "output_type": "execute_result"
    }
   ],
   "source": [
    "x = np.zeros((2,3,4))\n",
    "x.shape"
   ]
  },
  {
   "cell_type": "code",
   "execution_count": 11,
   "metadata": {},
   "outputs": [
    {
     "data": {
      "text/plain": [
       "dtype('S1')"
      ]
     },
     "execution_count": 11,
     "metadata": {},
     "output_type": "execute_result"
    }
   ],
   "source": [
    "x = np.zeros(3, dtype=\"string_\")\n",
    "x.dtype"
   ]
  },
  {
   "cell_type": "code",
   "execution_count": 12,
   "metadata": {},
   "outputs": [
    {
     "name": "stdout",
     "output_type": "stream",
     "text": [
      "[[4]\n",
      " [6]]\n"
     ]
    }
   ],
   "source": [
    "a = np.array([[1, 2], [3, 4], [5, 6]])\n",
    "print(a[1:, 1:])"
   ]
  },
  {
   "cell_type": "code",
   "execution_count": 13,
   "metadata": {},
   "outputs": [],
   "source": [
    "a = np.array([1, 1, 1])\n",
    "1 / (2 * a)\n",
    "b = np.array([[1, 2, 3], [4, 5, 6]])"
   ]
  },
  {
   "cell_type": "code",
   "execution_count": 14,
   "metadata": {},
   "outputs": [
    {
     "name": "stdout",
     "output_type": "stream",
     "text": [
      "6\n",
      "5\n",
      "(1, 2)\n",
      "21\n",
      "[2. 5.]\n",
      "[5 7 9]\n",
      "1.707825127659933\n"
     ]
    }
   ],
   "source": [
    "a = np.array([[1, 2, 3], [4, 5, 6]])\n",
    "print(np.max(a))       # 6\n",
    "print(np.argmax(a))    # 5 \n",
    "print(np.unravel_index(np.argmax(a), a.shape))  # (1, 2)\n",
    "print(np.sum(a))       # 21\n",
    "print(a.mean(axis=1))  # [2., 5.]\n",
    "print(a.sum(axis=0))   # [5, 7, 9]\n",
    "print(np.std(a))       # 1.7078..."
   ]
  },
  {
   "cell_type": "code",
   "execution_count": 15,
   "metadata": {},
   "outputs": [
    {
     "name": "stdout",
     "output_type": "stream",
     "text": [
      "-1\n",
      "[[-1 10]\n",
      " [10 10]]\n",
      "-1\n"
     ]
    },
    {
     "data": {
      "text/plain": [
       "array([ 5., 10., 10., 10.])"
      ]
     },
     "execution_count": 15,
     "metadata": {},
     "output_type": "execute_result"
    }
   ],
   "source": [
    "              arr = np.array([1, 2, 3, 4])\n",
    "\n",
    "              vista = arr.reshape((2, 2))\n",
    "              vista[0, 0] = -1 \n",
    "\n",
    "              print(arr[0])    # -1\n",
    "\n",
    "              arr[1:] = 10\n",
    "              print(vista)      # [[-1 10]\n",
    "                            \n",
    "        \n",
    "              copia = arr.astype(float)\n",
    "              copia[0] = 5.0\n",
    "              print(arr[0])   # -1\n",
    "              copia\n",
    "              "
   ]
  },
  {
   "cell_type": "code",
   "execution_count": 16,
   "metadata": {},
   "outputs": [
    {
     "name": "stdout",
     "output_type": "stream",
     "text": [
      "0     3\n",
      "1    -2\n",
      "2     0\n",
      "3    42\n",
      "dtype: int64\n",
      "a     3\n",
      "d    -2\n",
      "g     0\n",
      "w    42\n",
      "dtype: int64\n"
     ]
    }
   ],
   "source": [
    "import pandas as pd\n",
    "\n",
    "datos = [3, -2, 0, 42]                            \n",
    "obj = pd.Series(datos)\n",
    "print(obj)\n",
    "# 0     3\n",
    "# 1    -2\n",
    "# 2     0\n",
    "# 3    42\n",
    "# dtype: int64\n",
    "\n",
    "obj2 = pd.Series(datos, index=['a', 'd', 'g', 'w'])\n",
    "print(obj2)"
   ]
  },
  {
   "cell_type": "code",
   "execution_count": 17,
   "metadata": {},
   "outputs": [
    {
     "name": "stdout",
     "output_type": "stream",
     "text": [
      "a     3\n",
      "d    -2\n",
      "g     0\n",
      "w    42\n",
      "dtype: int64\n",
      "3\n",
      "a      3\n",
      "w    100\n",
      "dtype: int64\n"
     ]
    }
   ],
   "source": [
    "\n",
    "obj2 = pd.Series(datos, index=['a', 'd', 'g', 'w'])\n",
    "print(obj2)\n",
    "# a     3\n",
    "# d    -2\n",
    "# g     0\n",
    "# w    42\n",
    "# dtype: int64\n",
    "\n",
    "\n",
    "\n",
    "\n",
    "\n",
    "print(obj2['a'])    # 3\n",
    "obj2['w'] = 100 \n",
    "print(obj2[['a', 'w']])  "
   ]
  },
  {
   "cell_type": "code",
   "execution_count": 18,
   "metadata": {},
   "outputs": [
    {
     "name": "stdout",
     "output_type": "stream",
     "text": [
      "Santiago         NaN\n",
      "Lugo         99482.0\n",
      "Ourense     104891.0\n",
      "Vigo             NaN\n",
      "dtype: float64\n",
      "Lugo             NaN\n",
      "Ourense     109891.0\n",
      "Santiago         NaN\n",
      "Vigo             NaN\n",
      "dtype: float64\n"
     ]
    }
   ],
   "source": [
    "# Creamos una serie a partir de un diccionario\n",
    "datos_ciudades = {'A Coruña': 249261, 'Lugo': 99482, \n",
    "                  'Ourense': 104891, 'Pontevedra': 83077}\n",
    "# Pero damos un índice distinto al del diccionario\n",
    "ciudades = pd.Series(datos_ciudades, \n",
    "            index=['Santiago', 'Lugo', 'Ourense', 'Vigo'])\n",
    "print(ciudades)    \n",
    "# Santiago         NaN\n",
    "# Lugo         99482.0\n",
    "# Ourense     104891.0\n",
    "# Vigo             NaN\n",
    "# dtype: float64\n",
    "\n",
    "pd.isnull(ciudades)     # También existe notnull()\n",
    "# Santiago     True\n",
    "# Lugo        False\n",
    "# Ourense     False\n",
    "# Vigo         True\n",
    "# dtype: bool\n",
    "\n",
    "\n",
    "\n",
    "\n",
    "nuevos_nacimientos = pd.Series({'Ourense': 5000, 'Vigo': 5000})\n",
    "print(ciudades + nuevos_nacimientos)\n"
   ]
  },
  {
   "cell_type": "code",
   "execution_count": 19,
   "metadata": {},
   "outputs": [
    {
     "name": "stdout",
     "output_type": "stream",
     "text": [
      "   nombre  tiene_perro sueldo  edad\n",
      "0  Marcos        False    NaN    40\n",
      "1     Eva         True    NaN    35\n",
      "2    Sara         True    NaN    23\n",
      "3    Xoel        False    NaN    23\n"
     ]
    }
   ],
   "source": [
    "datos = {'nombre': [\"Marcos\", \"Eva\", \"Sara\", \"Xoel\"],\n",
    "            'edad': [40, 35, 23, 23],\n",
    "            'tiene_perro': [False, True, True, False]\n",
    "        }\n",
    "# Con el parámetro columns podemos reordenar las columnas\n",
    "# Si no se encuentran los datos para alguna columna, sus valores son NaNs\n",
    "df = pd.DataFrame(datos, columns=['nombre', 'tiene_perro', 'sueldo', 'edad'])\n",
    "print(df)"
   ]
  },
  {
   "cell_type": "code",
   "execution_count": 20,
   "metadata": {},
   "outputs": [
    {
     "name": "stdout",
     "output_type": "stream",
     "text": [
      "   nombre  edad  tiene_perro\n",
      "0  Marcos    40        False\n",
      "1     Eva    35         True\n",
      "2    Xoel    23         True\n"
     ]
    }
   ],
   "source": [
    "datos2 = [\n",
    "{'nombre': \"Marcos\", 'edad': 40, 'tiene_perro': False},\n",
    "{'nombre': \"Eva\", 'edad': 35, 'tiene_perro': True},\n",
    "{'nombre': \"Xoel\", 'edad': 23, 'tiene_perro': True}\n",
    "]\n",
    "df2 = pd.DataFrame(datos2)\n",
    "print(df2)"
   ]
  },
  {
   "cell_type": "code",
   "execution_count": 21,
   "metadata": {},
   "outputs": [
    {
     "data": {
      "text/plain": [
       "0    Marcos\n",
       "1       Eva\n",
       "2      Xoel\n",
       "Name: nombre, dtype: object"
      ]
     },
     "execution_count": 21,
     "metadata": {},
     "output_type": "execute_result"
    }
   ],
   "source": [
    "df2.nombre"
   ]
  },
  {
   "cell_type": "code",
   "execution_count": 22,
   "metadata": {},
   "outputs": [
    {
     "name": "stdout",
     "output_type": "stream",
     "text": [
      "   nombre  edad  tiene_perro\n",
      "0  Marcos    40        False\n",
      "1     Eva    35         True\n",
      "   nombre  edad  tiene_perro\n",
      "0  Marcos    40        False\n",
      "2    Xoel    23         True\n"
     ]
    }
   ],
   "source": [
    "print(df2[:2])\n",
    "#    nombre  edad  tiene_perro\n",
    "# 0  Marcos    40        False\n",
    "# 1     Eva    35         True\n",
    "\n",
    "# \"and\" y \"or\" no funcionan, como en NumPy\n",
    "filtrado = df2[(df2['edad'] < 30) | (df2['nombre'] == \"Marcos\")]  \n",
    "print(filtrado)  "
   ]
  },
  {
   "cell_type": "code",
   "execution_count": 23,
   "metadata": {},
   "outputs": [
    {
     "data": {
      "text/html": [
       "<div>\n",
       "<style scoped>\n",
       "    .dataframe tbody tr th:only-of-type {\n",
       "        vertical-align: middle;\n",
       "    }\n",
       "\n",
       "    .dataframe tbody tr th {\n",
       "        vertical-align: top;\n",
       "    }\n",
       "\n",
       "    .dataframe thead th {\n",
       "        text-align: right;\n",
       "    }\n",
       "</style>\n",
       "<table border=\"1\" class=\"dataframe\">\n",
       "  <thead>\n",
       "    <tr style=\"text-align: right;\">\n",
       "      <th></th>\n",
       "      <th>nombre</th>\n",
       "      <th>edad</th>\n",
       "      <th>tiene_perro</th>\n",
       "    </tr>\n",
       "  </thead>\n",
       "  <tbody>\n",
       "    <tr>\n",
       "      <th>0</th>\n",
       "      <td>Marcos</td>\n",
       "      <td>40</td>\n",
       "      <td>False</td>\n",
       "    </tr>\n",
       "    <tr>\n",
       "      <th>1</th>\n",
       "      <td>Eva</td>\n",
       "      <td>35</td>\n",
       "      <td>True</td>\n",
       "    </tr>\n",
       "    <tr>\n",
       "      <th>2</th>\n",
       "      <td>Xoel</td>\n",
       "      <td>23</td>\n",
       "      <td>True</td>\n",
       "    </tr>\n",
       "  </tbody>\n",
       "</table>\n",
       "</div>"
      ],
      "text/plain": [
       "   nombre  edad  tiene_perro\n",
       "0  Marcos    40        False\n",
       "1     Eva    35         True\n",
       "2    Xoel    23         True"
      ]
     },
     "execution_count": 23,
     "metadata": {},
     "output_type": "execute_result"
    }
   ],
   "source": [
    "df2"
   ]
  },
  {
   "cell_type": "code",
   "execution_count": 24,
   "metadata": {},
   "outputs": [
    {
     "name": "stdout",
     "output_type": "stream",
     "text": [
      "         detector1    detector2    detector3    detector4\n",
      "count  1000.000000  1000.000000  1000.000000  1000.000000\n",
      "mean      7.891538     8.046216     7.954233     7.820158\n",
      "std       4.631178     4.634667     4.627882     4.621110\n",
      "min       0.005420     0.034907     0.003131     0.036167\n",
      "25%       3.812963     3.983806     3.733142     3.852350\n",
      "50%       7.665735     8.168536     7.893121     7.591494\n",
      "75%      11.783697    12.168904    11.977366    11.939194\n",
      "max      15.976299    15.986336    15.989124    15.985781\n",
      "         detector1    detector2    detector3    detector4\n",
      "count  1000.000000  1000.000000  1000.000000  1000.000000\n",
      "mean      7.758856     7.923737     7.833756     7.699524\n",
      "std       4.430798     4.454892     4.447769     4.437063\n",
      "min       0.005420     0.034907     0.003131     0.036167\n",
      "25%       3.812963     3.983806     3.733142     3.852350\n",
      "50%       7.665735     8.168536     7.893121     7.591494\n",
      "75%      11.783697    12.168904    11.977366    11.939194\n",
      "max      14.000000    14.000000    14.000000    14.000000\n"
     ]
    }
   ],
   "source": [
    "datos_ph = pd.DataFrame(16 * np.random.rand(1000, 4), columns=[\"detector1\", \"detector2\", \"detector3\", \"detector4\"])\n",
    "print(datos_ph.describe())\n",
    "\n",
    "datos_ph[datos_ph > 14] = 14\n",
    "print(datos_ph.describe())"
   ]
  },
  {
   "cell_type": "code",
   "execution_count": null,
   "metadata": {},
   "outputs": [
    {
     "data": {
      "image/png": "[encoded data removed]",
      "text/plain": [
       "<Figure size 800x600 with 1 Axes>"
      ]
     },
     "metadata": {},
     "output_type": "display_data"
    }
   ],
   "source": [
    "import matplotlib.pyplot as plt\n",
    "\n",
    "fig = plt.figure(figsize=(8, 6))\n",
    "\n",
    "x = np.linspace(0, 10, 100)    # 100 puntos entre 0 y 10\n",
    "y1 = np.sin(x)\n",
    "y2 = np.cos(x)\n",
    "\n",
    "plt.plot(x, y1, label=\"Seno\", color=\"blue\", linestyle=\"--\")\n",
    "plt.plot(x, y2, label=\"Coseno\", color=\"red\", linestyle=\"-.\")\n",
    "\n",
    "plt.xlabel(\"Eje x\")\n",
    "plt.ylabel(\"Eje y\")\n",
    "plt.xlim(0, 8)\n",
    "plt.ylim(-2, 2)\n",
    "\n",
    "plt.title(\"Funciones seno y coseno\", fontsize=20)\n",
    "plt.legend(fontsize=15, loc=\"upper right\")   # loc=\"best\" elige la mejor posición \n",
    "plt.grid(alpha=0.5)\n",
    "\n",
    "plt.show()\n"
   ]
  }
 ],
 "metadata": {
  "kernelspec": {
   "display_name": "ml",
   "language": "python",
   "name": "python3"
  },
  "language_info": {
   "codemirror_mode": {
    "name": "ipython",
    "version": 3
   },
   "file_extension": ".py",
   "mimetype": "text/x-python",
   "name": "python",
   "nbconvert_exporter": "python",
   "pygments_lexer": "ipython3",
   "version": "3.11.5"
  }
 },
 "nbformat": 4,
 "nbformat_minor": 2
}
