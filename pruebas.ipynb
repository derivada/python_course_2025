{
 "cells": [
  {
   "cell_type": "code",
   "execution_count": 178,
   "metadata": {},
   "outputs": [],
   "source": [
    "import time\n",
    "import numpy as np "
   ]
  },
  {
   "cell_type": "code",
   "execution_count": 179,
   "metadata": {},
   "outputs": [],
   "source": [
    "my_arr = np.arange(100000)\n",
    "my_list = list(range(100000))"
   ]
  },
  {
   "cell_type": "code",
   "execution_count": 180,
   "metadata": {},
   "outputs": [
    {
     "name": "stdout",
     "output_type": "stream",
     "text": [
      "--- 0.0015065670013427734 seconds ---\n"
     ]
    }
   ],
   "source": [
    "start_time = time.time()\n",
    "for _ in range(10):\n",
    "    my_arr2 = my_arr * 2\n",
    "\n",
    "print(\"--- %s seconds ---\" % (time.time() - start_time))"
   ]
  },
  {
   "cell_type": "code",
   "execution_count": 181,
   "metadata": {},
   "outputs": [
    {
     "name": "stdout",
     "output_type": "stream",
     "text": [
      "--- 0.029905319213867188 seconds ---\n"
     ]
    }
   ],
   "source": [
    "start_time = time.time()\n",
    "for _ in range(10):\n",
    "    my_list2 = [x * 2 for x in my_list]\n",
    "\n",
    "print(\"--- %s seconds ---\" % (time.time() - start_time))"
   ]
  },
  {
   "cell_type": "code",
   "execution_count": 182,
   "metadata": {},
   "outputs": [
    {
     "name": "stdout",
     "output_type": "stream",
     "text": [
      "--- 0.21507716178894043 seconds ---\n"
     ]
    }
   ],
   "source": [
    "start_time = time.time()\n",
    "for _ in range(10):\n",
    "    for i in range(100000):\n",
    "        my_arr[i] = my_arr[i] << 1\n",
    "\n",
    "print(\"--- %s seconds ---\" % (time.time() - start_time))"
   ]
  },
  {
   "cell_type": "code",
   "execution_count": 183,
   "metadata": {},
   "outputs": [],
   "source": [
    "a = np.array([[2., 3., 5.],\n",
    "                [7., 8., 9.]])"
   ]
  },
  {
   "cell_type": "code",
   "execution_count": 184,
   "metadata": {},
   "outputs": [
    {
     "data": {
      "text/plain": [
       "(2, 3)"
      ]
     },
     "execution_count": 184,
     "metadata": {},
     "output_type": "execute_result"
    }
   ],
   "source": [
    "np.shape(a)"
   ]
  },
  {
   "cell_type": "code",
   "execution_count": 185,
   "metadata": {},
   "outputs": [
    {
     "name": "stdout",
     "output_type": "stream",
     "text": [
      "1\n",
      "2\n",
      "(5,)\n",
      "(2, 4)\n",
      "5\n",
      "8\n",
      "float64\n",
      "int32\n"
     ]
    }
   ],
   "source": [
    "                data1 = [1., 0.3, 2, 4, -2]\n",
    "                arr1 = np.array(data1)\n",
    "\n",
    "                data2 = [[1, 2, 3, 4], [5, 6, 7, 8]]\n",
    "                arr2 = np.array(data2)\n",
    "                print(arr1.ndim)\n",
    "                print(arr2.ndim)\n",
    "\n",
    "                print(arr1.shape)\n",
    "                print(arr2.shape)\n",
    "\n",
    "                print(arr1.size)\n",
    "                print(arr2.size)\n",
    "\n",
    "                print(arr1.dtype)    # float64 \n",
    "                print(arr2.dtype)    # int32"
   ]
  },
  {
   "cell_type": "code",
   "execution_count": 186,
   "metadata": {},
   "outputs": [
    {
     "data": {
      "text/plain": [
       "(2, 3, 4)"
      ]
     },
     "execution_count": 186,
     "metadata": {},
     "output_type": "execute_result"
    }
   ],
   "source": [
    "x = np.zeros((2,3,4))\n",
    "x.shape"
   ]
  },
  {
   "cell_type": "code",
   "execution_count": 187,
   "metadata": {},
   "outputs": [
    {
     "data": {
      "text/plain": [
       "dtype('S1')"
      ]
     },
     "execution_count": 187,
     "metadata": {},
     "output_type": "execute_result"
    }
   ],
   "source": [
    "x = np.zeros(3, dtype=\"string_\")\n",
    "x.dtype"
   ]
  },
  {
   "cell_type": "code",
   "execution_count": 188,
   "metadata": {},
   "outputs": [
    {
     "name": "stdout",
     "output_type": "stream",
     "text": [
      "[[4]\n",
      " [6]]\n"
     ]
    }
   ],
   "source": [
    "a = np.array([[1, 2], [3, 4], [5, 6]])\n",
    "print(a[1:, 1:])"
   ]
  },
  {
   "cell_type": "code",
   "execution_count": 189,
   "metadata": {},
   "outputs": [],
   "source": [
    "a = np.array([1, 1, 1])\n",
    "1 / (2 * a)\n",
    "b = np.array([[1, 2, 3], [4, 5, 6]])"
   ]
  },
  {
   "cell_type": "code",
   "execution_count": 190,
   "metadata": {},
   "outputs": [
    {
     "name": "stdout",
     "output_type": "stream",
     "text": [
      "6\n",
      "5\n",
      "(1, 2)\n",
      "21\n",
      "[2. 5.]\n",
      "[5 7 9]\n",
      "1.707825127659933\n"
     ]
    }
   ],
   "source": [
    "a = np.array([[1, 2, 3], [4, 5, 6]])\n",
    "print(np.max(a))       # 6\n",
    "print(np.argmax(a))    # 5 \n",
    "print(np.unravel_index(np.argmax(a), a.shape))  # (1, 2)\n",
    "print(np.sum(a))       # 21\n",
    "print(a.mean(axis=1))  # [2., 5.]\n",
    "print(a.sum(axis=0))   # [5, 7, 9]\n",
    "print(np.std(a))       # 1.7078..."
   ]
  },
  {
   "cell_type": "code",
   "execution_count": 191,
   "metadata": {},
   "outputs": [
    {
     "name": "stdout",
     "output_type": "stream",
     "text": [
      "-1\n",
      "[[-1 10]\n",
      " [10 10]]\n",
      "-1\n"
     ]
    },
    {
     "data": {
      "text/plain": [
       "array([ 5., 10., 10., 10.])"
      ]
     },
     "execution_count": 191,
     "metadata": {},
     "output_type": "execute_result"
    }
   ],
   "source": [
    "              arr = np.array([1, 2, 3, 4])\n",
    "\n",
    "              vista = arr.reshape((2, 2))\n",
    "              vista[0, 0] = -1 \n",
    "\n",
    "              print(arr[0])    # -1\n",
    "\n",
    "              arr[1:] = 10\n",
    "              print(vista)      # [[-1 10]\n",
    "                            \n",
    "        \n",
    "              copia = arr.astype(float)\n",
    "              copia[0] = 5.0\n",
    "              print(arr[0])   # -1\n",
    "              copia\n",
    "              "
   ]
  },
  {
   "cell_type": "code",
   "execution_count": 192,
   "metadata": {},
   "outputs": [
    {
     "name": "stdout",
     "output_type": "stream",
     "text": [
      "0     3\n",
      "1    -2\n",
      "2     0\n",
      "3    42\n",
      "dtype: int64\n",
      "a     3\n",
      "d    -2\n",
      "g     0\n",
      "w    42\n",
      "dtype: int64\n"
     ]
    }
   ],
   "source": [
    "import pandas as pd\n",
    "\n",
    "datos = [3, -2, 0, 42]                            \n",
    "obj = pd.Series(datos)\n",
    "print(obj)\n",
    "# 0     3\n",
    "# 1    -2\n",
    "# 2     0\n",
    "# 3    42\n",
    "# dtype: int64\n",
    "\n",
    "obj2 = pd.Series(datos, index=['a', 'd', 'g', 'w'])\n",
    "print(obj2)"
   ]
  },
  {
   "cell_type": "code",
   "execution_count": 193,
   "metadata": {},
   "outputs": [
    {
     "name": "stdout",
     "output_type": "stream",
     "text": [
      "a     3\n",
      "d    -2\n",
      "g     0\n",
      "w    42\n",
      "dtype: int64\n",
      "3\n",
      "a      3\n",
      "w    100\n",
      "dtype: int64\n"
     ]
    }
   ],
   "source": [
    "\n",
    "obj2 = pd.Series(datos, index=['a', 'd', 'g', 'w'])\n",
    "print(obj2)\n",
    "# a     3\n",
    "# d    -2\n",
    "# g     0\n",
    "# w    42\n",
    "# dtype: int64\n",
    "\n",
    "\n",
    "\n",
    "\n",
    "\n",
    "print(obj2['a'])    # 3\n",
    "obj2['w'] = 100 \n",
    "print(obj2[['a', 'w']])  "
   ]
  },
  {
   "cell_type": "code",
   "execution_count": 194,
   "metadata": {},
   "outputs": [
    {
     "name": "stdout",
     "output_type": "stream",
     "text": [
      "Santiago         NaN\n",
      "Lugo         99482.0\n",
      "Ourense     104891.0\n",
      "Vigo             NaN\n",
      "dtype: float64\n",
      "Lugo             NaN\n",
      "Ourense     109891.0\n",
      "Santiago         NaN\n",
      "Vigo             NaN\n",
      "dtype: float64\n"
     ]
    }
   ],
   "source": [
    "# Creamos una serie a partir de un diccionario\n",
    "datos_ciudades = {'A Coruña': 249261, 'Lugo': 99482, \n",
    "                  'Ourense': 104891, 'Pontevedra': 83077}\n",
    "# Pero damos un índice distinto al del diccionario\n",
    "ciudades = pd.Series(datos_ciudades, \n",
    "            index=['Santiago', 'Lugo', 'Ourense', 'Vigo'])\n",
    "print(ciudades)    \n",
    "# Santiago         NaN\n",
    "# Lugo         99482.0\n",
    "# Ourense     104891.0\n",
    "# Vigo             NaN\n",
    "# dtype: float64\n",
    "\n",
    "pd.isnull(ciudades)     # También existe notnull()\n",
    "# Santiago     True\n",
    "# Lugo        False\n",
    "# Ourense     False\n",
    "# Vigo         True\n",
    "# dtype: bool\n",
    "\n",
    "\n",
    "\n",
    "\n",
    "nuevos_nacimientos = pd.Series({'Ourense': 5000, 'Vigo': 5000})\n",
    "print(ciudades + nuevos_nacimientos)\n"
   ]
  },
  {
   "cell_type": "code",
   "execution_count": 195,
   "metadata": {},
   "outputs": [
    {
     "name": "stdout",
     "output_type": "stream",
     "text": [
      "   nombre  tiene_perro sueldo  edad\n",
      "0  Marcos        False    NaN    40\n",
      "1     Eva         True    NaN    35\n",
      "2    Sara         True    NaN    23\n",
      "3    Xoel        False    NaN    23\n"
     ]
    }
   ],
   "source": [
    "datos = {'nombre': [\"Marcos\", \"Eva\", \"Sara\", \"Xoel\"],\n",
    "            'edad': [40, 35, 23, 23],\n",
    "            'tiene_perro': [False, True, True, False]\n",
    "        }\n",
    "# Con el parámetro columns podemos reordenar las columnas\n",
    "# Si no se encuentran los datos para alguna columna, sus valores son NaNs\n",
    "df = pd.DataFrame(datos, columns=['nombre', 'tiene_perro', 'sueldo', 'edad'])\n",
    "print(df)"
   ]
  },
  {
   "cell_type": "code",
   "execution_count": 196,
   "metadata": {},
   "outputs": [
    {
     "name": "stdout",
     "output_type": "stream",
     "text": [
      "   nombre  edad  tiene_perro\n",
      "0  Marcos    40        False\n",
      "1     Eva    35         True\n",
      "2    Xoel    23         True\n"
     ]
    }
   ],
   "source": [
    "datos2 = [\n",
    "{'nombre': \"Marcos\", 'edad': 40, 'tiene_perro': False},\n",
    "{'nombre': \"Eva\", 'edad': 35, 'tiene_perro': True},\n",
    "{'nombre': \"Xoel\", 'edad': 23, 'tiene_perro': True}\n",
    "]\n",
    "df2 = pd.DataFrame(datos2)\n",
    "print(df2)"
   ]
  },
  {
   "cell_type": "code",
   "execution_count": 197,
   "metadata": {},
   "outputs": [
    {
     "data": {
      "text/plain": [
       "0    Marcos\n",
       "1       Eva\n",
       "2      Xoel\n",
       "Name: nombre, dtype: object"
      ]
     },
     "execution_count": 197,
     "metadata": {},
     "output_type": "execute_result"
    }
   ],
   "source": [
    "df2.nombre"
   ]
  },
  {
   "cell_type": "code",
   "execution_count": 198,
   "metadata": {},
   "outputs": [
    {
     "name": "stdout",
     "output_type": "stream",
     "text": [
      "   nombre  edad  tiene_perro\n",
      "0  Marcos    40        False\n",
      "1     Eva    35         True\n",
      "   nombre  edad  tiene_perro\n",
      "0  Marcos    40        False\n",
      "2    Xoel    23         True\n"
     ]
    }
   ],
   "source": [
    "print(df2[:2])\n",
    "#    nombre  edad  tiene_perro\n",
    "# 0  Marcos    40        False\n",
    "# 1     Eva    35         True\n",
    "\n",
    "# \"and\" y \"or\" no funcionan, como en NumPy\n",
    "filtrado = df2[(df2['edad'] < 30) | (df2['nombre'] == \"Marcos\")]  \n",
    "print(filtrado)  "
   ]
  },
  {
   "cell_type": "code",
   "execution_count": 199,
   "metadata": {},
   "outputs": [
    {
     "data": {
      "text/html": [
       "<div>\n",
       "<style scoped>\n",
       "    .dataframe tbody tr th:only-of-type {\n",
       "        vertical-align: middle;\n",
       "    }\n",
       "\n",
       "    .dataframe tbody tr th {\n",
       "        vertical-align: top;\n",
       "    }\n",
       "\n",
       "    .dataframe thead th {\n",
       "        text-align: right;\n",
       "    }\n",
       "</style>\n",
       "<table border=\"1\" class=\"dataframe\">\n",
       "  <thead>\n",
       "    <tr style=\"text-align: right;\">\n",
       "      <th></th>\n",
       "      <th>nombre</th>\n",
       "      <th>edad</th>\n",
       "      <th>tiene_perro</th>\n",
       "    </tr>\n",
       "  </thead>\n",
       "  <tbody>\n",
       "    <tr>\n",
       "      <th>0</th>\n",
       "      <td>Marcos</td>\n",
       "      <td>40</td>\n",
       "      <td>False</td>\n",
       "    </tr>\n",
       "    <tr>\n",
       "      <th>1</th>\n",
       "      <td>Eva</td>\n",
       "      <td>35</td>\n",
       "      <td>True</td>\n",
       "    </tr>\n",
       "    <tr>\n",
       "      <th>2</th>\n",
       "      <td>Xoel</td>\n",
       "      <td>23</td>\n",
       "      <td>True</td>\n",
       "    </tr>\n",
       "  </tbody>\n",
       "</table>\n",
       "</div>"
      ],
      "text/plain": [
       "   nombre  edad  tiene_perro\n",
       "0  Marcos    40        False\n",
       "1     Eva    35         True\n",
       "2    Xoel    23         True"
      ]
     },
     "execution_count": 199,
     "metadata": {},
     "output_type": "execute_result"
    }
   ],
   "source": [
    "df2"
   ]
  },
  {
   "cell_type": "code",
   "execution_count": null,
   "metadata": {},
   "outputs": [
    {
     "ename": "NameError",
     "evalue": "name 'nan' is not defined",
     "output_type": "error",
     "traceback": [
      "\u001b[1;31m---------------------------------------------------------------------------\u001b[0m",
      "\u001b[1;31mNameError\u001b[0m                                 Traceback (most recent call last)",
      "Cell \u001b[1;32mIn[218], line 1\u001b[0m\n\u001b[1;32m----> 1\u001b[0m datos \u001b[38;5;241m=\u001b[39m pd\u001b[38;5;241m.\u001b[39mDataFrame([[\u001b[38;5;241m1.\u001b[39m, \u001b[38;5;241m6.5\u001b[39m, \u001b[38;5;241m2.\u001b[39m], [\u001b[38;5;241m1.\u001b[39m, nan, nan], [nan, nan, nan], [nan, \u001b[38;5;241m6.5\u001b[39m, \u001b[38;5;241m3.\u001b[39m]])\n\u001b[0;32m      2\u001b[0m datos_limpios \u001b[38;5;241m=\u001b[39m datos\u001b[38;5;241m.\u001b[39mdropna()\n\u001b[0;32m      4\u001b[0m \u001b[38;5;28mprint\u001b[39m(datos)\n",
      "\u001b[1;31mNameError\u001b[0m: name 'nan' is not defined"
     ]
    }
   ],
   "source": [
    "datos = pd.DataFrame([[1., 6.5, 2.], [1., np.nan, np.nan], [np.nan, np.nan, np.nan], [np.nan, 6.5, 3.]])\n",
    "datos_limpios = datos.dropna()\n",
    "\n",
    "print(datos)\n",
    "\n",
    "print(datos_limpios)"
   ]
  }
 ],
 "metadata": {
  "kernelspec": {
   "display_name": "ml",
   "language": "python",
   "name": "python3"
  },
  "language_info": {
   "codemirror_mode": {
    "name": "ipython",
    "version": 3
   },
   "file_extension": ".py",
   "mimetype": "text/x-python",
   "name": "python",
   "nbconvert_exporter": "python",
   "pygments_lexer": "ipython3",
   "version": "3.11.5"
  }
 },
 "nbformat": 4,
 "nbformat_minor": 2
}
