{
 "cells": [
  {
   "cell_type": "code",
   "execution_count": 2,
   "metadata": {},
   "outputs": [],
   "source": [
    "import time\n",
    "import numpy as np "
   ]
  },
  {
   "cell_type": "code",
   "execution_count": 3,
   "metadata": {},
   "outputs": [],
   "source": [
    "my_arr = np.arange(100000)\n",
    "my_list = list(range(100000))"
   ]
  },
  {
   "cell_type": "code",
   "execution_count": 4,
   "metadata": {},
   "outputs": [
    {
     "name": "stdout",
     "output_type": "stream",
     "text": [
      "--- 0.0010001659393310547 seconds ---\n"
     ]
    }
   ],
   "source": [
    "start_time = time.time()\n",
    "for _ in range(10):\n",
    "    my_arr2 = my_arr * 2\n",
    "\n",
    "print(\"--- %s seconds ---\" % (time.time() - start_time))"
   ]
  },
  {
   "cell_type": "code",
   "execution_count": 5,
   "metadata": {},
   "outputs": [
    {
     "name": "stdout",
     "output_type": "stream",
     "text": [
      "--- 0.031014680862426758 seconds ---\n"
     ]
    }
   ],
   "source": [
    "start_time = time.time()\n",
    "for _ in range(10):\n",
    "    my_list2 = [x * 2 for x in my_list]\n",
    "\n",
    "print(\"--- %s seconds ---\" % (time.time() - start_time))"
   ]
  },
  {
   "cell_type": "code",
   "execution_count": 7,
   "metadata": {},
   "outputs": [
    {
     "name": "stdout",
     "output_type": "stream",
     "text": [
      "--- 0.18872356414794922 seconds ---\n"
     ]
    }
   ],
   "source": [
    "start_time = time.time()\n",
    "for _ in range(10):\n",
    "    for i in range(100000):\n",
    "        my_arr[i] = my_arr[i] << 1\n",
    "\n",
    "print(\"--- %s seconds ---\" % (time.time() - start_time))"
   ]
  },
  {
   "cell_type": "code",
   "execution_count": 8,
   "metadata": {},
   "outputs": [],
   "source": [
    "a = np.array([[2., 3., 5.],\n",
    "                [7., 8., 9.]])"
   ]
  },
  {
   "cell_type": "code",
   "execution_count": 9,
   "metadata": {},
   "outputs": [
    {
     "data": {
      "text/plain": [
       "(2, 3)"
      ]
     },
     "execution_count": 9,
     "metadata": {},
     "output_type": "execute_result"
    }
   ],
   "source": [
    "np.shape(a)"
   ]
  },
  {
   "cell_type": "code",
   "execution_count": 11,
   "metadata": {},
   "outputs": [
    {
     "name": "stdout",
     "output_type": "stream",
     "text": [
      "1\n",
      "2\n",
      "(5,)\n",
      "(2, 4)\n",
      "5\n",
      "8\n",
      "float64\n",
      "int32\n"
     ]
    }
   ],
   "source": [
    "                data1 = [1., 0.3, 2, 4, -2]\n",
    "                arr1 = np.array(data1)\n",
    "\n",
    "                data2 = [[1, 2, 3, 4], [5, 6, 7, 8]]\n",
    "                arr2 = np.array(data2)\n",
    "                print(arr1.ndim)\n",
    "                print(arr2.ndim)\n",
    "\n",
    "                print(arr1.shape)\n",
    "                print(arr2.shape)\n",
    "\n",
    "                print(arr1.size)\n",
    "                print(arr2.size)\n",
    "\n",
    "                print(arr1.dtype)    # float64 \n",
    "                print(arr2.dtype)    # int32"
   ]
  },
  {
   "cell_type": "code",
   "execution_count": 12,
   "metadata": {},
   "outputs": [
    {
     "data": {
      "text/plain": [
       "(2, 3, 4)"
      ]
     },
     "execution_count": 12,
     "metadata": {},
     "output_type": "execute_result"
    }
   ],
   "source": [
    "x = np.zeros((2,3,4))\n",
    "x.shape"
   ]
  },
  {
   "cell_type": "code",
   "execution_count": 22,
   "metadata": {},
   "outputs": [
    {
     "data": {
      "text/plain": [
       "dtype('S1')"
      ]
     },
     "execution_count": 22,
     "metadata": {},
     "output_type": "execute_result"
    }
   ],
   "source": [
    "x = np.zeros(3, dtype=\"string_\")\n",
    "x.dtype"
   ]
  },
  {
   "cell_type": "code",
   "execution_count": 37,
   "metadata": {},
   "outputs": [
    {
     "name": "stdout",
     "output_type": "stream",
     "text": [
      "[[4]\n",
      " [6]]\n"
     ]
    }
   ],
   "source": [
    "a = np.array([[1, 2], [3, 4], [5, 6]])\n",
    "print(a[1:, 1:])"
   ]
  },
  {
   "cell_type": "code",
   "execution_count": 40,
   "metadata": {},
   "outputs": [],
   "source": [
    "a = np.array([1, 1, 1])\n",
    "1 / (2 * a)\n",
    "b = np.array([[1, 2, 3], [4, 5, 6]])"
   ]
  },
  {
   "cell_type": "code",
   "execution_count": 56,
   "metadata": {},
   "outputs": [
    {
     "name": "stdout",
     "output_type": "stream",
     "text": [
      "6\n",
      "5\n",
      "(1, 2)\n",
      "21\n",
      "[2. 5.]\n",
      "[5 7 9]\n",
      "1.707825127659933\n"
     ]
    }
   ],
   "source": [
    "a = np.array([[1, 2, 3], [4, 5, 6]])\n",
    "print(np.max(a))       # 6\n",
    "print(np.argmax(a))    # 5 \n",
    "print(np.unravel_index(np.argmax(a), a.shape))  # (1, 2)\n",
    "print(np.sum(a))       # 21\n",
    "print(a.mean(axis=1))  # [2., 5.]\n",
    "print(a.sum(axis=0))   # [5, 7, 9]\n",
    "print(np.std(a))       # 1.7078..."
   ]
  },
  {
   "cell_type": "code",
   "execution_count": 71,
   "metadata": {},
   "outputs": [
    {
     "name": "stdout",
     "output_type": "stream",
     "text": [
      "-1\n",
      "[[-1 10]\n",
      " [10 10]]\n",
      "-1\n"
     ]
    },
    {
     "data": {
      "text/plain": [
       "array([ 5., 10., 10., 10.])"
      ]
     },
     "execution_count": 71,
     "metadata": {},
     "output_type": "execute_result"
    }
   ],
   "source": [
    "              arr = np.array([1, 2, 3, 4])\n",
    "\n",
    "              vista = arr.reshape((2, 2))\n",
    "              vista[0, 0] = -1 \n",
    "\n",
    "              print(arr[0])    # -1\n",
    "\n",
    "              arr[1:] = 10\n",
    "              print(vista)      # [[-1 10]\n",
    "                            \n",
    "        \n",
    "              copia = arr.astype(float)\n",
    "              copia[0] = 5.0\n",
    "              print(arr[0])   # -1\n",
    "              copia\n",
    "              "
   ]
  },
  {
   "cell_type": "code",
   "execution_count": null,
   "metadata": {},
   "outputs": [
    {
     "name": "stdout",
     "output_type": "stream",
     "text": [
      "0     3\n",
      "1    -2\n",
      "2     0\n",
      "3    42\n",
      "dtype: int64\n",
      "a     3\n",
      "d    -2\n",
      "g     0\n",
      "w    42\n",
      "dtype: int64\n",
      "0     3\n",
      "1    -2\n",
      "2     0\n",
      "3    42\n",
      "dtype: int64\n"
     ]
    }
   ],
   "source": [
    "import pandas as pd\n",
    "\n",
    "datos = [3, -2, 0, 42]                            \n",
    "obj = pd.Series(datos)\n",
    "print(obj)\n",
    "# 0     3\n",
    "# 1    -2\n",
    "# 2     0\n",
    "# 3    42\n",
    "# dtype: int64\n",
    "\n",
    "obj2 = pd.Series(datos, index=['a', 'd', 'g', 'w'])\n",
    "print(obj2)"
   ]
  },
  {
   "cell_type": "code",
   "execution_count": 76,
   "metadata": {},
   "outputs": [
    {
     "name": "stdout",
     "output_type": "stream",
     "text": [
      "a     3\n",
      "d    -2\n",
      "g     0\n",
      "w    42\n",
      "dtype: int64\n",
      "3\n",
      "a      3\n",
      "w    100\n",
      "dtype: int64\n"
     ]
    }
   ],
   "source": [
    "\n",
    "obj2 = pd.Series(datos, index=['a', 'd', 'g', 'w'])\n",
    "print(obj2)\n",
    "# a     3\n",
    "# d    -2\n",
    "# g     0\n",
    "# w    42\n",
    "# dtype: int64\n",
    "\n",
    "\n",
    "\n",
    "\n",
    "\n",
    "print(obj2['a'])    # 3\n",
    "obj2['w'] = 100 \n",
    "print(obj2[['a', 'w']])  "
   ]
  },
  {
   "cell_type": "code",
   "execution_count": null,
   "metadata": {},
   "outputs": [
    {
     "ename": "SyntaxError",
     "evalue": "leading zeros in decimal integer literals are not permitted; use an 0o prefix for octal integers (3610174660.py, line 3)",
     "output_type": "error",
     "traceback": [
      "\u001b[1;36m  Cell \u001b[1;32mIn[84], line 3\u001b[1;36m\u001b[0m\n\u001b[1;33m    'Ourense': 104 891, 'Pontevedra': 83 077}\u001b[0m\n\u001b[1;37m                                         ^\u001b[0m\n\u001b[1;31mSyntaxError\u001b[0m\u001b[1;31m:\u001b[0m leading zeros in decimal integer literals are not permitted; use an 0o prefix for octal integers\n"
     ]
    }
   ],
   "source": [
    "# Creamos una serie a partir de un diccionario\n",
    "datos_ciudades = {'A Coruña': 249261, 'Lugo': 99482, \n",
    "                  'Ourense': 104891, 'Pontevedra': 83077}\n",
    "# Pero damos un índice distinto al del diccionario\n",
    "ciudades = pd.Series(datos_ciudades, \n",
    "            index=['Santiago', 'Lugo', 'Ourense', 'Vigo'])\n",
    "print(ciudades)    \n",
    "# Santiago         NaN\n",
    "# Lugo         99482.0\n",
    "# Ourense     104891.0\n",
    "# Vigo             NaN\n",
    "# dtype: float64\n",
    "\n",
    "pd.isnull(ciudades)     # También existe notnull()\n",
    "# Santiago     True\n",
    "# Lugo        False\n",
    "# Ourense     False\n",
    "# Vigo         True\n",
    "# dtype: bool\n",
    "\n",
    "\n",
    "\n",
    "\n",
    "nuevos_nacimientos = pd.Series({'Ourense': 5000, 'Vigo': 5000})\n",
    "print(ciudades + nuevos_nacimientos)\n"
   ]
  }
 ],
 "metadata": {
  "kernelspec": {
   "display_name": "ml",
   "language": "python",
   "name": "python3"
  },
  "language_info": {
   "codemirror_mode": {
    "name": "ipython",
    "version": 3
   },
   "file_extension": ".py",
   "mimetype": "text/x-python",
   "name": "python",
   "nbconvert_exporter": "python",
   "pygments_lexer": "ipython3",
   "version": "3.11.5"
  }
 },
 "nbformat": 4,
 "nbformat_minor": 2
}
