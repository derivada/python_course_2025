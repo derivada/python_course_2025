{
 "cells": [
  {
   "cell_type": "code",
   "execution_count": 78,
   "metadata": {},
   "outputs": [],
   "source": [
    "import time\n",
    "import numpy as np "
   ]
  },
  {
   "cell_type": "code",
   "execution_count": 79,
   "metadata": {},
   "outputs": [],
   "source": [
    "my_arr = np.arange(100000)\n",
    "my_list = list(range(100000))"
   ]
  },
  {
   "cell_type": "code",
   "execution_count": 80,
   "metadata": {},
   "outputs": [
    {
     "name": "stdout",
     "output_type": "stream",
     "text": [
      "--- 0.0 seconds ---\n"
     ]
    }
   ],
   "source": [
    "start_time = time.time()\n",
    "for _ in range(10):\n",
    "    my_arr2 = my_arr * 2\n",
    "\n",
    "print(\"--- %s seconds ---\" % (time.time() - start_time))"
   ]
  },
  {
   "cell_type": "code",
   "execution_count": 81,
   "metadata": {},
   "outputs": [
    {
     "name": "stdout",
     "output_type": "stream",
     "text": [
      "--- 0.03330874443054199 seconds ---\n"
     ]
    }
   ],
   "source": [
    "start_time = time.time()\n",
    "for _ in range(10):\n",
    "    my_list2 = [x * 2 for x in my_list]\n",
    "\n",
    "print(\"--- %s seconds ---\" % (time.time() - start_time))"
   ]
  },
  {
   "cell_type": "code",
   "execution_count": 82,
   "metadata": {},
   "outputs": [
    {
     "name": "stdout",
     "output_type": "stream",
     "text": [
      "--- 0.20358991622924805 seconds ---\n"
     ]
    }
   ],
   "source": [
    "start_time = time.time()\n",
    "for _ in range(10):\n",
    "    for i in range(100000):\n",
    "        my_arr[i] = my_arr[i] << 1\n",
    "\n",
    "print(\"--- %s seconds ---\" % (time.time() - start_time))"
   ]
  },
  {
   "cell_type": "code",
   "execution_count": 83,
   "metadata": {},
   "outputs": [],
   "source": [
    "a = np.array([[2., 3., 5.],\n",
    "                [7., 8., 9.]])"
   ]
  },
  {
   "cell_type": "code",
   "execution_count": 84,
   "metadata": {},
   "outputs": [
    {
     "data": {
      "text/plain": [
       "(2, 3)"
      ]
     },
     "execution_count": 84,
     "metadata": {},
     "output_type": "execute_result"
    }
   ],
   "source": [
    "np.shape(a)"
   ]
  },
  {
   "cell_type": "code",
   "execution_count": 85,
   "metadata": {},
   "outputs": [
    {
     "name": "stdout",
     "output_type": "stream",
     "text": [
      "1\n",
      "2\n",
      "(5,)\n",
      "(2, 4)\n",
      "5\n",
      "8\n",
      "float64\n",
      "int32\n"
     ]
    }
   ],
   "source": [
    "                data1 = [1., 0.3, 2, 4, -2]\n",
    "                arr1 = np.array(data1)\n",
    "\n",
    "                data2 = [[1, 2, 3, 4], [5, 6, 7, 8]]\n",
    "                arr2 = np.array(data2)\n",
    "                print(arr1.ndim)\n",
    "                print(arr2.ndim)\n",
    "\n",
    "                print(arr1.shape)\n",
    "                print(arr2.shape)\n",
    "\n",
    "                print(arr1.size)\n",
    "                print(arr2.size)\n",
    "\n",
    "                print(arr1.dtype)    # float64 \n",
    "                print(arr2.dtype)    # int32"
   ]
  },
  {
   "cell_type": "code",
   "execution_count": 86,
   "metadata": {},
   "outputs": [
    {
     "data": {
      "text/plain": [
       "(2, 3, 4)"
      ]
     },
     "execution_count": 86,
     "metadata": {},
     "output_type": "execute_result"
    }
   ],
   "source": [
    "x = np.zeros((2,3,4))\n",
    "x.shape"
   ]
  },
  {
   "cell_type": "code",
   "execution_count": 87,
   "metadata": {},
   "outputs": [
    {
     "data": {
      "text/plain": [
       "dtype('S1')"
      ]
     },
     "execution_count": 87,
     "metadata": {},
     "output_type": "execute_result"
    }
   ],
   "source": [
    "x = np.zeros(3, dtype=\"string_\")\n",
    "x.dtype"
   ]
  },
  {
   "cell_type": "code",
   "execution_count": 88,
   "metadata": {},
   "outputs": [
    {
     "name": "stdout",
     "output_type": "stream",
     "text": [
      "[[4]\n",
      " [6]]\n"
     ]
    }
   ],
   "source": [
    "a = np.array([[1, 2], [3, 4], [5, 6]])\n",
    "print(a[1:, 1:])"
   ]
  },
  {
   "cell_type": "code",
   "execution_count": 89,
   "metadata": {},
   "outputs": [],
   "source": [
    "a = np.array([1, 1, 1])\n",
    "1 / (2 * a)\n",
    "b = np.array([[1, 2, 3], [4, 5, 6]])"
   ]
  },
  {
   "cell_type": "code",
   "execution_count": 90,
   "metadata": {},
   "outputs": [
    {
     "name": "stdout",
     "output_type": "stream",
     "text": [
      "6\n",
      "5\n",
      "(1, 2)\n",
      "21\n",
      "[2. 5.]\n",
      "[5 7 9]\n",
      "1.707825127659933\n"
     ]
    }
   ],
   "source": [
    "a = np.array([[1, 2, 3], [4, 5, 6]])\n",
    "print(np.max(a))       # 6\n",
    "print(np.argmax(a))    # 5 \n",
    "print(np.unravel_index(np.argmax(a), a.shape))  # (1, 2)\n",
    "print(np.sum(a))       # 21\n",
    "print(a.mean(axis=1))  # [2., 5.]\n",
    "print(a.sum(axis=0))   # [5, 7, 9]\n",
    "print(np.std(a))       # 1.7078..."
   ]
  },
  {
   "cell_type": "code",
   "execution_count": 91,
   "metadata": {},
   "outputs": [
    {
     "name": "stdout",
     "output_type": "stream",
     "text": [
      "-1\n",
      "[[-1 10]\n",
      " [10 10]]\n",
      "-1\n"
     ]
    },
    {
     "data": {
      "text/plain": [
       "array([ 5., 10., 10., 10.])"
      ]
     },
     "execution_count": 91,
     "metadata": {},
     "output_type": "execute_result"
    }
   ],
   "source": [
    "              arr = np.array([1, 2, 3, 4])\n",
    "\n",
    "              vista = arr.reshape((2, 2))\n",
    "              vista[0, 0] = -1 \n",
    "\n",
    "              print(arr[0])    # -1\n",
    "\n",
    "              arr[1:] = 10\n",
    "              print(vista)      # [[-1 10]\n",
    "                            \n",
    "        \n",
    "              copia = arr.astype(float)\n",
    "              copia[0] = 5.0\n",
    "              print(arr[0])   # -1\n",
    "              copia\n",
    "              "
   ]
  },
  {
   "cell_type": "code",
   "execution_count": 92,
   "metadata": {},
   "outputs": [
    {
     "name": "stdout",
     "output_type": "stream",
     "text": [
      "0     3\n",
      "1    -2\n",
      "2     0\n",
      "3    42\n",
      "dtype: int64\n",
      "a     3\n",
      "d    -2\n",
      "g     0\n",
      "w    42\n",
      "dtype: int64\n"
     ]
    }
   ],
   "source": [
    "import pandas as pd\n",
    "\n",
    "datos = [3, -2, 0, 42]                            \n",
    "obj = pd.Series(datos)\n",
    "print(obj)\n",
    "# 0     3\n",
    "# 1    -2\n",
    "# 2     0\n",
    "# 3    42\n",
    "# dtype: int64\n",
    "\n",
    "obj2 = pd.Series(datos, index=['a', 'd', 'g', 'w'])\n",
    "print(obj2)"
   ]
  },
  {
   "cell_type": "code",
   "execution_count": 93,
   "metadata": {},
   "outputs": [
    {
     "name": "stdout",
     "output_type": "stream",
     "text": [
      "a     3\n",
      "d    -2\n",
      "g     0\n",
      "w    42\n",
      "dtype: int64\n",
      "3\n",
      "a      3\n",
      "w    100\n",
      "dtype: int64\n"
     ]
    }
   ],
   "source": [
    "\n",
    "obj2 = pd.Series(datos, index=['a', 'd', 'g', 'w'])\n",
    "print(obj2)\n",
    "# a     3\n",
    "# d    -2\n",
    "# g     0\n",
    "# w    42\n",
    "# dtype: int64\n",
    "\n",
    "\n",
    "\n",
    "\n",
    "\n",
    "print(obj2['a'])    # 3\n",
    "obj2['w'] = 100 \n",
    "print(obj2[['a', 'w']])  "
   ]
  },
  {
   "cell_type": "code",
   "execution_count": 94,
   "metadata": {},
   "outputs": [
    {
     "name": "stdout",
     "output_type": "stream",
     "text": [
      "Santiago         NaN\n",
      "Lugo         99482.0\n",
      "Ourense     104891.0\n",
      "Vigo             NaN\n",
      "dtype: float64\n",
      "Lugo             NaN\n",
      "Ourense     109891.0\n",
      "Santiago         NaN\n",
      "Vigo             NaN\n",
      "dtype: float64\n"
     ]
    }
   ],
   "source": [
    "# Creamos una serie a partir de un diccionario\n",
    "datos_ciudades = {'A Coruña': 249261, 'Lugo': 99482, \n",
    "                  'Ourense': 104891, 'Pontevedra': 83077}\n",
    "# Pero damos un índice distinto al del diccionario\n",
    "ciudades = pd.Series(datos_ciudades, \n",
    "            index=['Santiago', 'Lugo', 'Ourense', 'Vigo'])\n",
    "print(ciudades)    \n",
    "# Santiago         NaN\n",
    "# Lugo         99482.0\n",
    "# Ourense     104891.0\n",
    "# Vigo             NaN\n",
    "# dtype: float64\n",
    "\n",
    "pd.isnull(ciudades)     # También existe notnull()\n",
    "# Santiago     True\n",
    "# Lugo        False\n",
    "# Ourense     False\n",
    "# Vigo         True\n",
    "# dtype: bool\n",
    "\n",
    "\n",
    "\n",
    "\n",
    "nuevos_nacimientos = pd.Series({'Ourense': 5000, 'Vigo': 5000})\n",
    "print(ciudades + nuevos_nacimientos)\n"
   ]
  },
  {
   "cell_type": "code",
   "execution_count": 95,
   "metadata": {},
   "outputs": [
    {
     "name": "stdout",
     "output_type": "stream",
     "text": [
      "   nombre  tiene_perro sueldo  edad\n",
      "0  Marcos        False    NaN    40\n",
      "1     Eva         True    NaN    35\n",
      "2    Sara         True    NaN    23\n",
      "3    Xoel        False    NaN    23\n"
     ]
    }
   ],
   "source": [
    "datos = {'nombre': [\"Marcos\", \"Eva\", \"Sara\", \"Xoel\"],\n",
    "            'edad': [40, 35, 23, 23],\n",
    "            'tiene_perro': [False, True, True, False]\n",
    "        }\n",
    "# Con el parámetro columns podemos reordenar las columnas\n",
    "# Si no se encuentran los datos para alguna columna, sus valores son NaNs\n",
    "df = pd.DataFrame(datos, columns=['nombre', 'tiene_perro', 'sueldo', 'edad'])\n",
    "print(df)"
   ]
  },
  {
   "cell_type": "code",
   "execution_count": 96,
   "metadata": {},
   "outputs": [
    {
     "name": "stdout",
     "output_type": "stream",
     "text": [
      "   nombre  edad  tiene_perro\n",
      "0  Marcos    40        False\n",
      "1     Eva    35         True\n",
      "2    Xoel    23         True\n"
     ]
    }
   ],
   "source": [
    "datos2 = [\n",
    "{'nombre': \"Marcos\", 'edad': 40, 'tiene_perro': False},\n",
    "{'nombre': \"Eva\", 'edad': 35, 'tiene_perro': True},\n",
    "{'nombre': \"Xoel\", 'edad': 23, 'tiene_perro': True}\n",
    "]\n",
    "df2 = pd.DataFrame(datos2)\n",
    "print(df2)"
   ]
  },
  {
   "cell_type": "code",
   "execution_count": 97,
   "metadata": {},
   "outputs": [
    {
     "data": {
      "text/plain": [
       "0    Marcos\n",
       "1       Eva\n",
       "2      Xoel\n",
       "Name: nombre, dtype: object"
      ]
     },
     "execution_count": 97,
     "metadata": {},
     "output_type": "execute_result"
    }
   ],
   "source": [
    "df2.nombre"
   ]
  },
  {
   "cell_type": "code",
   "execution_count": 98,
   "metadata": {},
   "outputs": [
    {
     "name": "stdout",
     "output_type": "stream",
     "text": [
      "   nombre  edad  tiene_perro\n",
      "0  Marcos    40        False\n",
      "1     Eva    35         True\n",
      "   nombre  edad  tiene_perro\n",
      "0  Marcos    40        False\n",
      "2    Xoel    23         True\n"
     ]
    }
   ],
   "source": [
    "print(df2[:2])\n",
    "#    nombre  edad  tiene_perro\n",
    "# 0  Marcos    40        False\n",
    "# 1     Eva    35         True\n",
    "\n",
    "# \"and\" y \"or\" no funcionan, como en NumPy\n",
    "filtrado = df2[(df2['edad'] < 30) | (df2['nombre'] == \"Marcos\")]  \n",
    "print(filtrado)  "
   ]
  },
  {
   "cell_type": "code",
   "execution_count": 99,
   "metadata": {},
   "outputs": [
    {
     "data": {
      "text/html": [
       "<div>\n",
       "<style scoped>\n",
       "    .dataframe tbody tr th:only-of-type {\n",
       "        vertical-align: middle;\n",
       "    }\n",
       "\n",
       "    .dataframe tbody tr th {\n",
       "        vertical-align: top;\n",
       "    }\n",
       "\n",
       "    .dataframe thead th {\n",
       "        text-align: right;\n",
       "    }\n",
       "</style>\n",
       "<table border=\"1\" class=\"dataframe\">\n",
       "  <thead>\n",
       "    <tr style=\"text-align: right;\">\n",
       "      <th></th>\n",
       "      <th>nombre</th>\n",
       "      <th>edad</th>\n",
       "      <th>tiene_perro</th>\n",
       "    </tr>\n",
       "  </thead>\n",
       "  <tbody>\n",
       "    <tr>\n",
       "      <th>0</th>\n",
       "      <td>Marcos</td>\n",
       "      <td>40</td>\n",
       "      <td>False</td>\n",
       "    </tr>\n",
       "    <tr>\n",
       "      <th>1</th>\n",
       "      <td>Eva</td>\n",
       "      <td>35</td>\n",
       "      <td>True</td>\n",
       "    </tr>\n",
       "    <tr>\n",
       "      <th>2</th>\n",
       "      <td>Xoel</td>\n",
       "      <td>23</td>\n",
       "      <td>True</td>\n",
       "    </tr>\n",
       "  </tbody>\n",
       "</table>\n",
       "</div>"
      ],
      "text/plain": [
       "   nombre  edad  tiene_perro\n",
       "0  Marcos    40        False\n",
       "1     Eva    35         True\n",
       "2    Xoel    23         True"
      ]
     },
     "execution_count": 99,
     "metadata": {},
     "output_type": "execute_result"
    }
   ],
   "source": [
    "df2"
   ]
  },
  {
   "cell_type": "code",
   "execution_count": null,
   "metadata": {},
   "outputs": [
    {
     "data": {
      "text/html": [
       "<div>\n",
       "<style scoped>\n",
       "    .dataframe tbody tr th:only-of-type {\n",
       "        vertical-align: middle;\n",
       "    }\n",
       "\n",
       "    .dataframe tbody tr th {\n",
       "        vertical-align: top;\n",
       "    }\n",
       "\n",
       "    .dataframe thead th {\n",
       "        text-align: right;\n",
       "    }\n",
       "</style>\n",
       "<table border=\"1\" class=\"dataframe\">\n",
       "  <thead>\n",
       "    <tr style=\"text-align: right;\">\n",
       "      <th></th>\n",
       "      <th>detector1</th>\n",
       "      <th>detector2</th>\n",
       "      <th>detector3</th>\n",
       "      <th>detector4</th>\n",
       "    </tr>\n",
       "  </thead>\n",
       "  <tbody>\n",
       "    <tr>\n",
       "      <th>count</th>\n",
       "      <td>1000.000000</td>\n",
       "      <td>1000.000000</td>\n",
       "      <td>1000.000000</td>\n",
       "      <td>1000.000000</td>\n",
       "    </tr>\n",
       "    <tr>\n",
       "      <th>mean</th>\n",
       "      <td>-0.011812</td>\n",
       "      <td>-0.007259</td>\n",
       "      <td>0.003903</td>\n",
       "      <td>0.015455</td>\n",
       "    </tr>\n",
       "    <tr>\n",
       "      <th>std</th>\n",
       "      <td>1.019620</td>\n",
       "      <td>0.971440</td>\n",
       "      <td>1.043118</td>\n",
       "      <td>1.039745</td>\n",
       "    </tr>\n",
       "    <tr>\n",
       "      <th>min</th>\n",
       "      <td>-3.619842</td>\n",
       "      <td>-2.780414</td>\n",
       "      <td>-3.490336</td>\n",
       "      <td>-4.499022</td>\n",
       "    </tr>\n",
       "    <tr>\n",
       "      <th>25%</th>\n",
       "      <td>-0.699497</td>\n",
       "      <td>-0.667662</td>\n",
       "      <td>-0.668824</td>\n",
       "      <td>-0.696257</td>\n",
       "    </tr>\n",
       "    <tr>\n",
       "      <th>50%</th>\n",
       "      <td>-0.015988</td>\n",
       "      <td>-0.000987</td>\n",
       "      <td>0.027922</td>\n",
       "      <td>0.045919</td>\n",
       "    </tr>\n",
       "    <tr>\n",
       "      <th>75%</th>\n",
       "      <td>0.651968</td>\n",
       "      <td>0.616617</td>\n",
       "      <td>0.679639</td>\n",
       "      <td>0.720059</td>\n",
       "    </tr>\n",
       "    <tr>\n",
       "      <th>max</th>\n",
       "      <td>3.371495</td>\n",
       "      <td>3.139532</td>\n",
       "      <td>3.580276</td>\n",
       "      <td>3.188907</td>\n",
       "    </tr>\n",
       "  </tbody>\n",
       "</table>\n",
       "</div>"
      ],
      "text/plain": [
       "         detector1    detector2    detector3    detector4\n",
       "count  1000.000000  1000.000000  1000.000000  1000.000000\n",
       "mean     -0.011812    -0.007259     0.003903     0.015455\n",
       "std       1.019620     0.971440     1.043118     1.039745\n",
       "min      -3.619842    -2.780414    -3.490336    -4.499022\n",
       "25%      -0.699497    -0.667662    -0.668824    -0.696257\n",
       "50%      -0.015988    -0.000987     0.027922     0.045919\n",
       "75%       0.651968     0.616617     0.679639     0.720059\n",
       "max       3.371495     3.139532     3.580276     3.188907"
      ]
     },
     "execution_count": 120,
     "metadata": {},
     "output_type": "execute_result"
    }
   ],
   "source": [
    "datos_ph = pd.DataFrame(16 * np.random.rand(1000, 4), columns=[\"detector1\", \"detector2\", \"detector3\", \"detector4\"])\n",
    "datos_ph.describe()"
   ]
  }
 ],
 "metadata": {
  "kernelspec": {
   "display_name": "ml",
   "language": "python",
   "name": "python3"
  },
  "language_info": {
   "codemirror_mode": {
    "name": "ipython",
    "version": 3
   },
   "file_extension": ".py",
   "mimetype": "text/x-python",
   "name": "python",
   "nbconvert_exporter": "python",
   "pygments_lexer": "ipython3",
   "version": "3.11.5"
  }
 },
 "nbformat": 4,
 "nbformat_minor": 2
}
