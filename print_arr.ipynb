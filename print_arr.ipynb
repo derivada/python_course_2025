{
 "cells": [
  {
   "cell_type": "code",
   "execution_count": null,
   "metadata": {},
   "outputs": [],
   "source": [
    "import numpy as np\n",
    "import matplotlib.pyplot as plt\n",
    "import matplotlib.patches as patches\n",
    "import matplotlib.cm as cm\n",
    "\n",
    "# Sample 2D array\n",
    "arr = np.array([[1, 2], [3, 4]])\n",
    "\n",
    "fig, ax = plt.subplots(figsize=(4, 4))\n",
    "ax.set_xlim(0, arr.shape[1])\n",
    "ax.set_ylim(0, arr.shape[0])\n",
    "ax.set_xticks([])\n",
    "ax.set_yticks([])\n",
    "ax.set_frame_on(False)\n",
    "\n",
    "# Use a colormap for colors\n",
    "cmap = cm.get_cmap(\"Blues\", arr.size)  # 'coolwarm', 'viridis' also work\n",
    "\n",
    "# Draw cells\n",
    "for i in range(arr.shape[0]):\n",
    "    for j in range(arr.shape[1]):\n",
    "        color = cmap(arr[i, j] / np.max(arr))  # Normalize values\n",
    "        rect = patches.Rectangle((j, arr.shape[0] - 1 - i), 1, 1, \n",
    "                                 edgecolor='black', facecolor=color, lw=3)\n",
    "        ax.add_patch(rect)\n",
    "        ax.text(j + 0.5, arr.shape[0] - 1 - i + 0.5, f\"{arr[i, j]}\", \n",
    "                ha='center', va='center', fontsize=16, fontweight='bold',\n",
    "                color='white')\n",
    "\n",
    "plt.show()\n"
   ]
  },
  {
   "cell_type": "code",
   "execution_count": null,
   "metadata": {},
   "outputs": [],
   "source": []
  }
 ],
 "metadata": {
  "kernelspec": {
   "display_name": "Python 3",
   "language": "python",
   "name": "python3"
  },
  "language_info": {
   "codemirror_mode": {
    "name": "ipython",
    "version": 3
   },
   "file_extension": ".py",
   "mimetype": "text/x-python",
   "name": "python",
   "nbconvert_exporter": "python",
   "pygments_lexer": "ipython3",
   "version": "3.10.12"
  }
 },
 "nbformat": 4,
 "nbformat_minor": 2
}
